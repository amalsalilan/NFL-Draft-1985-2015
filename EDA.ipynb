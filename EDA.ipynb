{
 "cells": [
  {
   "cell_type": "code",
   "execution_count": 1,
   "id": "3ec622ff",
   "metadata": {},
   "outputs": [],
   "source": [
    "import pandas as pd\n",
    "import numpy as np"
   ]
  },
  {
   "cell_type": "code",
   "execution_count": 2,
   "id": "40e9e102",
   "metadata": {},
   "outputs": [],
   "source": [
    "df=pd.read_csv(\"nfl_draft.csv\")"
   ]
  },
  {
   "cell_type": "code",
   "execution_count": 3,
   "id": "23abed18",
   "metadata": {},
   "outputs": [
    {
     "name": "stdout",
     "output_type": "stream",
     "text": [
      "<class 'pandas.core.frame.DataFrame'>\n",
      "RangeIndex: 8435 entries, 0 to 8434\n",
      "Data columns (total 34 columns):\n",
      " #   Column             Non-Null Count  Dtype  \n",
      "---  ------             --------------  -----  \n",
      " 0   column_a           8435 non-null   object \n",
      " 1   player_id          7216 non-null   object \n",
      " 2   year               8435 non-null   int64  \n",
      " 3   rnd                8435 non-null   int64  \n",
      " 4   pick               8435 non-null   int64  \n",
      " 5   tm                 8435 non-null   object \n",
      " 6   player             8435 non-null   object \n",
      " 7   hof                8435 non-null   object \n",
      " 8   pos                8435 non-null   object \n",
      " 9   position_standard  8435 non-null   object \n",
      " 10  first4av           8435 non-null   int64  \n",
      " 11  age                7190 non-null   float64\n",
      " 12  to                 7053 non-null   float64\n",
      " 13  ap1                8435 non-null   int64  \n",
      " 14  pb                 8435 non-null   int64  \n",
      " 15  st                 8435 non-null   int64  \n",
      " 16  carav              7053 non-null   float64\n",
      " 17  drav               6270 non-null   float64\n",
      " 18  g                  7020 non-null   float64\n",
      " 19  cmp                594 non-null    float64\n",
      " 20  pass_att           594 non-null    float64\n",
      " 21  pass_yds           594 non-null    float64\n",
      " 22  pass_td            594 non-null    float64\n",
      " 23  pass_int           594 non-null    float64\n",
      " 24  rush_att           1646 non-null   float64\n",
      " 25  rush_yds           1646 non-null   float64\n",
      " 26  rush_tds           1646 non-null   float64\n",
      " 27  rec                2171 non-null   float64\n",
      " 28  rec_yds            2171 non-null   float64\n",
      " 29  rec_tds            2171 non-null   float64\n",
      " 30  tkl                4111 non-null   float64\n",
      " 31  def_int            1616 non-null   float64\n",
      " 32  sk                 4047 non-null   object \n",
      " 33  college_univ       5005 non-null   object \n",
      "dtypes: float64(18), int64(7), object(9)\n",
      "memory usage: 2.2+ MB\n"
     ]
    }
   ],
   "source": [
    "df.info()"
   ]
  },
  {
   "cell_type": "code",
   "execution_count": 4,
   "id": "80311e6d",
   "metadata": {},
   "outputs": [
    {
     "name": "stdout",
     "output_type": "stream",
     "text": [
      "column_a              0.00\n",
      "player_id            14.45\n",
      "year                  0.00\n",
      "rnd                   0.00\n",
      "pick                  0.00\n",
      "tm                    0.00\n",
      "player                0.00\n",
      "hof                   0.00\n",
      "pos                   0.00\n",
      "position_standard     0.00\n",
      "first4av              0.00\n",
      "age                  14.76\n",
      "to                   16.38\n",
      "ap1                   0.00\n",
      "pb                    0.00\n",
      "st                    0.00\n",
      "carav                16.38\n",
      "drav                 25.67\n",
      "g                    16.78\n",
      "cmp                  92.96\n",
      "pass_att             92.96\n",
      "pass_yds             92.96\n",
      "pass_td              92.96\n",
      "pass_int             92.96\n",
      "rush_att             80.49\n",
      "rush_yds             80.49\n",
      "rush_tds             80.49\n",
      "rec                  74.26\n",
      "rec_yds              74.26\n",
      "rec_tds              74.26\n",
      "tkl                  51.26\n",
      "def_int              80.84\n",
      "sk                   52.02\n",
      "college_univ         40.66\n",
      "dtype: float64\n"
     ]
    }
   ],
   "source": [
    "\n",
    "percent_missing = df.isnull().sum() / len(df) * 100\n",
    "\n",
    "print(percent_missing.round(2))\n"
   ]
  },
  {
   "cell_type": "code",
   "execution_count": 7,
   "id": "d0e77d63",
   "metadata": {},
   "outputs": [],
   "source": [
    "numeric_columns = df.select_dtypes(include='number').columns\n",
    "df[numeric_columns] = df[numeric_columns].fillna(df[numeric_columns].mean())\n",
    "\n",
    "\n",
    "categorical_columns = df.select_dtypes(include='object').columns\n",
    "df[categorical_columns] = df[categorical_columns].fillna(df[categorical_columns].mode().iloc[0])\n",
    "\n",
    "\n",
    "boolean_columns = df.select_dtypes(include='bool').columns\n",
    "df[boolean_columns] = df[boolean_columns].fillna(False)\n"
   ]
  },
  {
   "cell_type": "code",
   "execution_count": 6,
   "id": "697133a1",
   "metadata": {},
   "outputs": [
    {
     "data": {
      "text/plain": [
       "column_a             0\n",
       "player_id            0\n",
       "year                 0\n",
       "rnd                  0\n",
       "pick                 0\n",
       "tm                   0\n",
       "player               0\n",
       "hof                  0\n",
       "pos                  0\n",
       "position_standard    0\n",
       "first4av             0\n",
       "age                  0\n",
       "to                   0\n",
       "ap1                  0\n",
       "pb                   0\n",
       "st                   0\n",
       "carav                0\n",
       "drav                 0\n",
       "g                    0\n",
       "cmp                  0\n",
       "pass_att             0\n",
       "pass_yds             0\n",
       "pass_td              0\n",
       "pass_int             0\n",
       "rush_att             0\n",
       "rush_yds             0\n",
       "rush_tds             0\n",
       "rec                  0\n",
       "rec_yds              0\n",
       "rec_tds              0\n",
       "tkl                  0\n",
       "def_int              0\n",
       "sk                   0\n",
       "college_univ         0\n",
       "dtype: int64"
      ]
     },
     "execution_count": 6,
     "metadata": {},
     "output_type": "execute_result"
    }
   ],
   "source": [
    "df.isnull().sum()"
   ]
  }
 ],
 "metadata": {
  "kernelspec": {
   "display_name": "Python 3 (ipykernel)",
   "language": "python",
   "name": "python3"
  },
  "language_info": {
   "codemirror_mode": {
    "name": "ipython",
    "version": 3
   },
   "file_extension": ".py",
   "mimetype": "text/x-python",
   "name": "python",
   "nbconvert_exporter": "python",
   "pygments_lexer": "ipython3",
   "version": "3.9.13"
  }
 },
 "nbformat": 4,
 "nbformat_minor": 5
}
